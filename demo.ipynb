{
 "cells": [
  {
   "cell_type": "markdown",
   "metadata": {},
   "source": [
    "# 学習済Doc2Vecモデルによるお手軽文章属性推定"
   ]
  },
  {
   "cell_type": "markdown",
   "metadata": {},
   "source": [
    "## 推論モデル作成"
   ]
  },
  {
   "cell_type": "markdown",
   "metadata": {},
   "source": [
    "各種ファイルのパス"
   ]
  },
  {
   "cell_type": "code",
   "execution_count": 3,
   "metadata": {},
   "outputs": [],
   "source": [
    "DOC2VEC = \"../randd_eight_skill_prediction/models/jawiki.doc2vec.dbow300d.model\"\n",
    "\n",
    "NEOLOGD = \"/usr/local/lib/mecab/dic/mecab-ipadic-neologd\""
   ]
  },
  {
   "cell_type": "code",
   "execution_count": 4,
   "metadata": {},
   "outputs": [],
   "source": [
    "from LabelEstimator import LabelEstimator"
   ]
  },
  {
   "cell_type": "code",
   "execution_count": 5,
   "metadata": {},
   "outputs": [
    {
     "name": "stdout",
     "output_type": "stream",
     "text": [
      "Loading Doc2Vec model...\n",
      "Done!\n"
     ]
    }
   ],
   "source": [
    "model = LabelEstimator(DOC2VEC, NEOLOGD)"
   ]
  },
  {
   "cell_type": "markdown",
   "metadata": {},
   "source": [
    "任意でラベルを決める"
   ]
  },
  {
   "cell_type": "code",
   "execution_count": 6,
   "metadata": {},
   "outputs": [],
   "source": [
    "model.set_labels([\"野球\", \"サッカー\", \"バスケットボール\", \"テニス\", \"卓球\"])"
   ]
  },
  {
   "cell_type": "code",
   "execution_count": 7,
   "metadata": {},
   "outputs": [
    {
     "data": {
      "image/png": "[encoded data removed]",
      "text/plain": [
       "<Figure size 432x288 with 1 Axes>"
      ]
     },
     "metadata": {
      "needs_background": "light"
     },
     "output_type": "display_data"
    },
    {
     "data": {
      "text/html": [
       "<div>\n",
       "<style scoped>\n",
       "    .dataframe tbody tr th:only-of-type {\n",
       "        vertical-align: middle;\n",
       "    }\n",
       "\n",
       "    .dataframe tbody tr th {\n",
       "        vertical-align: top;\n",
       "    }\n",
       "\n",
       "    .dataframe thead th {\n",
       "        text-align: right;\n",
       "    }\n",
       "</style>\n",
       "<table border=\"1\" class=\"dataframe\">\n",
       "  <thead>\n",
       "    <tr style=\"text-align: right;\">\n",
       "      <th></th>\n",
       "      <th>スコア</th>\n",
       "    </tr>\n",
       "    <tr>\n",
       "      <th>ラベル</th>\n",
       "      <th></th>\n",
       "    </tr>\n",
       "  </thead>\n",
       "  <tbody>\n",
       "    <tr>\n",
       "      <th>野球</th>\n",
       "      <td>0.537374</td>\n",
       "    </tr>\n",
       "    <tr>\n",
       "      <th>バスケットボール</th>\n",
       "      <td>0.427758</td>\n",
       "    </tr>\n",
       "    <tr>\n",
       "      <th>テニス</th>\n",
       "      <td>0.418875</td>\n",
       "    </tr>\n",
       "    <tr>\n",
       "      <th>サッカー</th>\n",
       "      <td>0.418532</td>\n",
       "    </tr>\n",
       "    <tr>\n",
       "      <th>卓球</th>\n",
       "      <td>0.389130</td>\n",
       "    </tr>\n",
       "  </tbody>\n",
       "</table>\n",
       "</div>"
      ],
      "text/plain": [
       "               スコア\n",
       "ラベル               \n",
       "野球        0.537374\n",
       "バスケットボール  0.427758\n",
       "テニス       0.418875\n",
       "サッカー      0.418532\n",
       "卓球        0.389130"
      ]
     },
     "execution_count": 7,
     "metadata": {},
     "output_type": "execute_result"
    }
   ],
   "source": [
    "model.estimate(\"イチローが現役選手を引退した。\")"
   ]
  },
  {
   "cell_type": "markdown",
   "metadata": {},
   "source": [
    "ラベルを設定していないと，単純な辞書全体からの類推を行う。計算に時間がかかる他，単純な単語に結果が引っ張られてしまう。"
   ]
  },
  {
   "cell_type": "code",
   "execution_count": 8,
   "metadata": {},
   "outputs": [
    {
     "data": {
      "image/png": "[encoded data removed]",
      "text/plain": [
       "<Figure size 432x288 with 1 Axes>"
      ]
     },
     "metadata": {
      "needs_background": "light"
     },
     "output_type": "display_data"
    },
    {
     "data": {
      "text/html": [
       "<div>\n",
       "<style scoped>\n",
       "    .dataframe tbody tr th:only-of-type {\n",
       "        vertical-align: middle;\n",
       "    }\n",
       "\n",
       "    .dataframe tbody tr th {\n",
       "        vertical-align: top;\n",
       "    }\n",
       "\n",
       "    .dataframe thead th {\n",
       "        text-align: right;\n",
       "    }\n",
       "</style>\n",
       "<table border=\"1\" class=\"dataframe\">\n",
       "  <thead>\n",
       "    <tr style=\"text-align: right;\">\n",
       "      <th></th>\n",
       "      <th>スコア</th>\n",
       "    </tr>\n",
       "    <tr>\n",
       "      <th>ラベル</th>\n",
       "      <th></th>\n",
       "    </tr>\n",
       "  </thead>\n",
       "  <tbody>\n",
       "    <tr>\n",
       "      <th>現役選手</th>\n",
       "      <td>0.673436</td>\n",
       "    </tr>\n",
       "    <tr>\n",
       "      <th>引退</th>\n",
       "      <td>0.651344</td>\n",
       "    </tr>\n",
       "    <tr>\n",
       "      <th>引退後</th>\n",
       "      <td>0.651011</td>\n",
       "    </tr>\n",
       "    <tr>\n",
       "      <th>アプモンバンド</th>\n",
       "      <td>0.648664</td>\n",
       "    </tr>\n",
       "    <tr>\n",
       "      <th>現役引退</th>\n",
       "      <td>0.648380</td>\n",
       "    </tr>\n",
       "    <tr>\n",
       "      <th>イチロー</th>\n",
       "      <td>0.644330</td>\n",
       "    </tr>\n",
       "    <tr>\n",
       "      <th>現役生活</th>\n",
       "      <td>0.643301</td>\n",
       "    </tr>\n",
       "    <tr>\n",
       "      <th>ラジカントーキョーベース</th>\n",
       "      <td>0.642964</td>\n",
       "    </tr>\n",
       "    <tr>\n",
       "      <th>現役</th>\n",
       "      <td>0.639271</td>\n",
       "    </tr>\n",
       "    <tr>\n",
       "      <th>泉江</th>\n",
       "      <td>0.637256</td>\n",
       "    </tr>\n",
       "  </tbody>\n",
       "</table>\n",
       "</div>"
      ],
      "text/plain": [
       "                   スコア\n",
       "ラベル                   \n",
       "現役選手          0.673436\n",
       "引退            0.651344\n",
       "引退後           0.651011\n",
       "アプモンバンド       0.648664\n",
       "現役引退          0.648380\n",
       "イチロー          0.644330\n",
       "現役生活          0.643301\n",
       "ラジカントーキョーベース  0.642964\n",
       "現役            0.639271\n",
       "泉江            0.637256"
      ]
     },
     "execution_count": 8,
     "metadata": {},
     "output_type": "execute_result"
    }
   ],
   "source": [
    "model.clear_labels()\n",
    "model.estimate(\"イチローが現役選手を引退した。\")"
   ]
  },
  {
   "cell_type": "markdown",
   "metadata": {},
   "source": [
    "## Livedoorニュースコーパス：Sports Watch の記事の類推を行う\n",
    "\n",
    "\n",
    "[ダウンロード](https://www.rondhuit.com/download.html#ldcc)\n",
    "\n",
    "`ldcc-20140209.tar.gz` を解凍する。"
   ]
  },
  {
   "cell_type": "markdown",
   "metadata": {},
   "source": [
    "テキストファイル置き場\n",
    "\n",
    "```\n",
    "./text\n",
    "   |_sports-watch/\n",
    "     |_sports-watch-???????.txt\n",
    "     |_sports-watch-???????.txt\n",
    "     |_sports-watch-???????.txt\n",
    "     :\n",
    "     :\n",
    "```"
   ]
  },
  {
   "cell_type": "markdown",
   "metadata": {},
   "source": [
    "自由にラベルを決める。決めた中から，推定をしてくれる。"
   ]
  },
  {
   "cell_type": "code",
   "execution_count": 9,
   "metadata": {},
   "outputs": [],
   "source": [
    "model.set_labels([\"野球\", \"サッカー\", \"バスケットボール\", \"テニス\", \"卓球\"])"
   ]
  },
  {
   "cell_type": "markdown",
   "metadata": {},
   "source": [
    "テキストファイルの読み込み"
   ]
  },
  {
   "cell_type": "code",
   "execution_count": 18,
   "metadata": {},
   "outputs": [
    {
     "data": {
      "application/vnd.jupyter.widget-view+json": {
       "model_id": "db98b0aadcea42258973ccdfa8a17147",
       "version_major": 2,
       "version_minor": 0
      },
      "text/plain": [
       "HBox(children=(IntProgress(value=0, description='Loading .txt files', max=900), HTML(value='')))"
      ]
     },
     "metadata": {},
     "output_type": "display_data"
    },
    {
     "name": "stdout",
     "output_type": "stream",
     "text": [
      "\n"
     ]
    }
   ],
   "source": [
    "import re\n",
    "from glob import glob\n",
    "from tqdm import tqdm_notebook as tqdm\n",
    "\n",
    "def clean_sportswatch_txt(s: str) -> str:\n",
    "    s = s.replace(\"【Sports Watch】\", \"\")\n",
    "    # url除去\n",
    "    s = re.sub(r\"(https?|ftp)(:\\/\\/[-_\\.!~*\\'()a-zA-Z0-9;\\/?:\\@&=\\+\\$,%#]+)\", \"\" , s)\n",
    "    s = re.sub(re.compile(\"[\\d!-/:-@[-`{-~]\"), '', s)\n",
    "    return s\n",
    "\n",
    "documents = []\n",
    "for file in tqdm(glob(\"text/sports-watch/sports*.txt\"),\n",
    "                 desc=\"Loading .txt files\"):\n",
    "    with open(file, \"r\") as f:\n",
    "        documents.append(clean_sportswatch_txt(f.read()))"
   ]
  },
  {
   "cell_type": "markdown",
   "metadata": {},
   "source": [
    "`n`番目の記事に対しての推定結果を出力。"
   ]
  },
  {
   "cell_type": "code",
   "execution_count": 22,
   "metadata": {},
   "outputs": [
    {
     "name": "stdout",
     "output_type": "stream",
     "text": [
      "\n",
      "T\n",
      "ザック・ジャパン好発進の裏側で、本田の“ヒデ化”が火種に\n",
      "今月日、強豪アルゼンチン代表を下した、サッカー日本代表＝ザック・ジャパン。日には、完全アウェーの韓国戦でも、押し気味に試合を進め、スコアレスドローながらも、日本中のサッカーファンに期待を抱かせる上々の初陣となった。\n",
      "\n",
      "だが、その裏には、ザック・ジャパンを揺るがす、新たな火種があるという。日（火）発売の「週刊アサヒ芸能」（号）の『NEWS SHOT！』のコーナーでは、『ザックジャパン「好発進」の裏に新火種 本田圭佑「ヒデ化」に大ブーイング！』なるレポートが掲載された。\n",
      "\n",
      "同誌には、サッカージャーナリスト・後藤健生氏による、「ザッケローニ監督は南アＷ杯強の土台をもとにチームを作っている。トルシエもジーコもオシムもそうですが、過去の代表監督は独自色を押し出し、前任者からの継続性がなかった。やっと世界基準になった」というコメントが寄せれているものの、その一方では、対極の意見もあるようだ。\n",
      "\n",
      "Ｗ杯・デンマーク戦のFK以降、日のテレク戦で今季リーグ戦点目を決めるまで、実に公式戦試合で無得点だった本田圭佑に対し、同じく同誌にコメントするスポーツ氏記者は、「最近の本田はほとんど報道陣にしゃべりません。南アの時は『大会に集中したい』という説明がありましたが、今回の代表戦ではテレビ局のインタビューに回答えただけで、それ以外は記者たちの前を素通りでしたよ。香川の台頭や移籍のことでナーバスになっているうえ、所属事務所の意向が影響していると言われますが、今の行動パターンはまるで以前の（中田）ヒデのようです」と語っている。\n",
      "\n",
      "本田の“ヒデ化”は吉と出るか、凶と出るか——、心配の種は尽きない。\n",
      "\n",
      "・週刊アサヒ芸能 ［ライト版］＜デジタル＞（PC版）\n",
      "・週刊アサヒ芸能（モバイル版）\n",
      "\n"
     ]
    },
    {
     "data": {
      "image/png": "[encoded data removed]",
      "text/plain": [
       "<Figure size 432x288 with 1 Axes>"
      ]
     },
     "metadata": {
      "needs_background": "light"
     },
     "output_type": "display_data"
    },
    {
     "data": {
      "text/html": [
       "<div>\n",
       "<style scoped>\n",
       "    .dataframe tbody tr th:only-of-type {\n",
       "        vertical-align: middle;\n",
       "    }\n",
       "\n",
       "    .dataframe tbody tr th {\n",
       "        vertical-align: top;\n",
       "    }\n",
       "\n",
       "    .dataframe thead th {\n",
       "        text-align: right;\n",
       "    }\n",
       "</style>\n",
       "<table border=\"1\" class=\"dataframe\">\n",
       "  <thead>\n",
       "    <tr style=\"text-align: right;\">\n",
       "      <th></th>\n",
       "      <th>スコア</th>\n",
       "    </tr>\n",
       "    <tr>\n",
       "      <th>ラベル</th>\n",
       "      <th></th>\n",
       "    </tr>\n",
       "  </thead>\n",
       "  <tbody>\n",
       "    <tr>\n",
       "      <th>サッカー</th>\n",
       "      <td>0.330383</td>\n",
       "    </tr>\n",
       "    <tr>\n",
       "      <th>野球</th>\n",
       "      <td>0.201033</td>\n",
       "    </tr>\n",
       "    <tr>\n",
       "      <th>卓球</th>\n",
       "      <td>0.196171</td>\n",
       "    </tr>\n",
       "    <tr>\n",
       "      <th>テニス</th>\n",
       "      <td>0.175083</td>\n",
       "    </tr>\n",
       "    <tr>\n",
       "      <th>バスケットボール</th>\n",
       "      <td>0.142734</td>\n",
       "    </tr>\n",
       "  </tbody>\n",
       "</table>\n",
       "</div>"
      ],
      "text/plain": [
       "               スコア\n",
       "ラベル               \n",
       "サッカー      0.330383\n",
       "野球        0.201033\n",
       "卓球        0.196171\n",
       "テニス       0.175083\n",
       "バスケットボール  0.142734"
      ]
     },
     "execution_count": 22,
     "metadata": {},
     "output_type": "execute_result"
    }
   ],
   "source": [
    "n = 11\n",
    "print(documents[n])\n",
    "model.estimate(documents[n])"
   ]
  }
 ],
 "metadata": {
  "kernelspec": {
   "display_name": "Python 3",
   "language": "python",
   "name": "python3"
  },
  "language_info": {
   "codemirror_mode": {
    "name": "ipython",
    "version": 3
   },
   "file_extension": ".py",
   "mimetype": "text/x-python",
   "name": "python",
   "nbconvert_exporter": "python",
   "pygments_lexer": "ipython3",
   "version": "3.7.0"
  }
 },
 "nbformat": 4,
 "nbformat_minor": 2
}
